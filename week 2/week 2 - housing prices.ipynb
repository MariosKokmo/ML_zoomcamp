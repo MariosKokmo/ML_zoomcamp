{
 "cells": [
  {
   "cell_type": "code",
   "execution_count": 590,
   "id": "b2ef444e",
   "metadata": {},
   "outputs": [],
   "source": [
    "import pandas as pd"
   ]
  },
  {
   "cell_type": "code",
   "execution_count": 591,
   "id": "a9da40cf",
   "metadata": {},
   "outputs": [
    {
     "data": {
      "text/plain": [
       "(20640, 10)"
      ]
     },
     "execution_count": 591,
     "metadata": {},
     "output_type": "execute_result"
    }
   ],
   "source": [
    "data = pd.read_csv('housing.csv')\n",
    "data.shape"
   ]
  },
  {
   "cell_type": "code",
   "execution_count": 592,
   "id": "b49c132a",
   "metadata": {},
   "outputs": [],
   "source": [
    "import matplotlib.pyplot as plt"
   ]
  },
  {
   "cell_type": "code",
   "execution_count": 593,
   "id": "f31bd752",
   "metadata": {},
   "outputs": [
    {
     "data": {
      "text/html": [
       "<div>\n",
       "<style scoped>\n",
       "    .dataframe tbody tr th:only-of-type {\n",
       "        vertical-align: middle;\n",
       "    }\n",
       "\n",
       "    .dataframe tbody tr th {\n",
       "        vertical-align: top;\n",
       "    }\n",
       "\n",
       "    .dataframe thead th {\n",
       "        text-align: right;\n",
       "    }\n",
       "</style>\n",
       "<table border=\"1\" class=\"dataframe\">\n",
       "  <thead>\n",
       "    <tr style=\"text-align: right;\">\n",
       "      <th></th>\n",
       "      <th>longitude</th>\n",
       "      <th>latitude</th>\n",
       "      <th>housing_median_age</th>\n",
       "      <th>total_rooms</th>\n",
       "      <th>total_bedrooms</th>\n",
       "      <th>population</th>\n",
       "      <th>households</th>\n",
       "      <th>median_income</th>\n",
       "      <th>median_house_value</th>\n",
       "      <th>ocean_proximity</th>\n",
       "    </tr>\n",
       "  </thead>\n",
       "  <tbody>\n",
       "    <tr>\n",
       "      <th>0</th>\n",
       "      <td>-122.23</td>\n",
       "      <td>37.88</td>\n",
       "      <td>41.0</td>\n",
       "      <td>880.0</td>\n",
       "      <td>129.0</td>\n",
       "      <td>322.0</td>\n",
       "      <td>126.0</td>\n",
       "      <td>8.3252</td>\n",
       "      <td>452600.0</td>\n",
       "      <td>NEAR BAY</td>\n",
       "    </tr>\n",
       "    <tr>\n",
       "      <th>1</th>\n",
       "      <td>-122.22</td>\n",
       "      <td>37.86</td>\n",
       "      <td>21.0</td>\n",
       "      <td>7099.0</td>\n",
       "      <td>1106.0</td>\n",
       "      <td>2401.0</td>\n",
       "      <td>1138.0</td>\n",
       "      <td>8.3014</td>\n",
       "      <td>358500.0</td>\n",
       "      <td>NEAR BAY</td>\n",
       "    </tr>\n",
       "    <tr>\n",
       "      <th>2</th>\n",
       "      <td>-122.24</td>\n",
       "      <td>37.85</td>\n",
       "      <td>52.0</td>\n",
       "      <td>1467.0</td>\n",
       "      <td>190.0</td>\n",
       "      <td>496.0</td>\n",
       "      <td>177.0</td>\n",
       "      <td>7.2574</td>\n",
       "      <td>352100.0</td>\n",
       "      <td>NEAR BAY</td>\n",
       "    </tr>\n",
       "    <tr>\n",
       "      <th>3</th>\n",
       "      <td>-122.25</td>\n",
       "      <td>37.85</td>\n",
       "      <td>52.0</td>\n",
       "      <td>1274.0</td>\n",
       "      <td>235.0</td>\n",
       "      <td>558.0</td>\n",
       "      <td>219.0</td>\n",
       "      <td>5.6431</td>\n",
       "      <td>341300.0</td>\n",
       "      <td>NEAR BAY</td>\n",
       "    </tr>\n",
       "    <tr>\n",
       "      <th>4</th>\n",
       "      <td>-122.25</td>\n",
       "      <td>37.85</td>\n",
       "      <td>52.0</td>\n",
       "      <td>1627.0</td>\n",
       "      <td>280.0</td>\n",
       "      <td>565.0</td>\n",
       "      <td>259.0</td>\n",
       "      <td>3.8462</td>\n",
       "      <td>342200.0</td>\n",
       "      <td>NEAR BAY</td>\n",
       "    </tr>\n",
       "  </tbody>\n",
       "</table>\n",
       "</div>"
      ],
      "text/plain": [
       "   longitude  latitude  housing_median_age  total_rooms  total_bedrooms  \\\n",
       "0    -122.23     37.88                41.0        880.0           129.0   \n",
       "1    -122.22     37.86                21.0       7099.0          1106.0   \n",
       "2    -122.24     37.85                52.0       1467.0           190.0   \n",
       "3    -122.25     37.85                52.0       1274.0           235.0   \n",
       "4    -122.25     37.85                52.0       1627.0           280.0   \n",
       "\n",
       "   population  households  median_income  median_house_value ocean_proximity  \n",
       "0       322.0       126.0         8.3252            452600.0        NEAR BAY  \n",
       "1      2401.0      1138.0         8.3014            358500.0        NEAR BAY  \n",
       "2       496.0       177.0         7.2574            352100.0        NEAR BAY  \n",
       "3       558.0       219.0         5.6431            341300.0        NEAR BAY  \n",
       "4       565.0       259.0         3.8462            342200.0        NEAR BAY  "
      ]
     },
     "execution_count": 593,
     "metadata": {},
     "output_type": "execute_result"
    }
   ],
   "source": [
    "data.head()"
   ]
  },
  {
   "cell_type": "code",
   "execution_count": 594,
   "id": "cb0d3619",
   "metadata": {},
   "outputs": [
    {
     "data": {
      "image/png": "[encoded data removed]",
      "text/plain": [
       "<Figure size 640x480 with 1 Axes>"
      ]
     },
     "metadata": {},
     "output_type": "display_data"
    }
   ],
   "source": [
    "plt.hist(data['median_house_value'], bins=50);"
   ]
  },
  {
   "cell_type": "code",
   "execution_count": 595,
   "id": "3ef2f46b",
   "metadata": {},
   "outputs": [],
   "source": [
    "cols = ['latitude','longitude','housing_median_age','total_rooms','total_bedrooms','population','households','median_income','median_house_value']"
   ]
  },
  {
   "cell_type": "code",
   "execution_count": 596,
   "id": "b07136a6",
   "metadata": {},
   "outputs": [],
   "source": [
    "data = data[cols]"
   ]
  },
  {
   "cell_type": "markdown",
   "id": "3e3183f2",
   "metadata": {},
   "source": [
    "# Question 1"
   ]
  },
  {
   "cell_type": "code",
   "execution_count": 597,
   "id": "972d9835",
   "metadata": {},
   "outputs": [
    {
     "data": {
      "text/plain": [
       "latitude                0\n",
       "longitude               0\n",
       "housing_median_age      0\n",
       "total_rooms             0\n",
       "total_bedrooms        207\n",
       "population              0\n",
       "households              0\n",
       "median_income           0\n",
       "median_house_value      0\n",
       "dtype: int64"
      ]
     },
     "execution_count": 597,
     "metadata": {},
     "output_type": "execute_result"
    }
   ],
   "source": [
    "data[cols].isnull().sum()"
   ]
  },
  {
   "cell_type": "markdown",
   "id": "55ea407a",
   "metadata": {},
   "source": [
    "Answer = 207"
   ]
  },
  {
   "cell_type": "markdown",
   "id": "766320cc",
   "metadata": {},
   "source": [
    "# Question 2"
   ]
  },
  {
   "cell_type": "code",
   "execution_count": 598,
   "id": "57bf5f4b",
   "metadata": {},
   "outputs": [
    {
     "data": {
      "text/plain": [
       "1166.0"
      ]
     },
     "execution_count": 598,
     "metadata": {},
     "output_type": "execute_result"
    }
   ],
   "source": [
    "data['population'].median()"
   ]
  },
  {
   "cell_type": "markdown",
   "id": "eee0f8d1",
   "metadata": {},
   "source": [
    "Answer = 1166"
   ]
  },
  {
   "cell_type": "markdown",
   "id": "d51471e0",
   "metadata": {},
   "source": [
    "# Split the data"
   ]
  },
  {
   "cell_type": "code",
   "execution_count": 599,
   "id": "5aedac95",
   "metadata": {},
   "outputs": [],
   "source": [
    "import numpy as np\n",
    "\n",
    "np.random.seed(seed=42)"
   ]
  },
  {
   "cell_type": "markdown",
   "id": "3f972bb2",
   "metadata": {},
   "source": [
    "We'll define a function so that we have reusable code "
   ]
  },
  {
   "cell_type": "code",
   "execution_count": 600,
   "id": "eaa3a316",
   "metadata": {},
   "outputs": [],
   "source": [
    "def split_data(data, train_ratio = 0.6, test_ratio =0.2, val_ratio = 0.2):\n",
    "    idx = np.arange(data.shape[0])\n",
    "    np.random.shuffle(idx)\n",
    "    \n",
    "    train = int(train_ratio*len(idx))\n",
    "    test = int(test_ratio*len(idx))\n",
    "    val = int(val_ratio*len(idx))\n",
    "    \n",
    "    assert train_ratio + val_ratio + test_ratio == 1, \"Ratio is wrong\"\n",
    "    \n",
    "    y = data['median_house_value'].copy()\n",
    "    X = data.drop(['median_house_value'], axis=1).copy()\n",
    "    X_train = X.iloc[:train]\n",
    "    X_val = X.iloc[train:train+val]\n",
    "    X_test = X.iloc[-test:]\n",
    "\n",
    "    y_train = np.log1p(y.iloc[:train])\n",
    "    y_val = np.log1p(y.iloc[train:train+val])\n",
    "    y_test = np.log1p(y.iloc[-test:])\n",
    "    \n",
    "    return X_train, X_val, X_test, y_train, y_val, y_test"
   ]
  },
  {
   "cell_type": "code",
   "execution_count": 601,
   "id": "18ac625c",
   "metadata": {},
   "outputs": [],
   "source": [
    "X_train, X_val, X_test, y_train, y_val, y_test = split_data(data)"
   ]
  },
  {
   "cell_type": "code",
   "execution_count": 602,
   "id": "a4d0fc12",
   "metadata": {},
   "outputs": [
    {
     "data": {
      "text/plain": [
       "(12384, 8)"
      ]
     },
     "execution_count": 602,
     "metadata": {},
     "output_type": "execute_result"
    }
   ],
   "source": [
    "X_train.shape"
   ]
  },
  {
   "cell_type": "code",
   "execution_count": 603,
   "id": "f432b4b9",
   "metadata": {},
   "outputs": [
    {
     "name": "stdout",
     "output_type": "stream",
     "text": [
      "(4128, 8)\n",
      "(4128, 8)\n"
     ]
    }
   ],
   "source": [
    "print(X_val.shape)\n",
    "print(X_test.shape)"
   ]
  },
  {
   "cell_type": "code",
   "execution_count": 604,
   "id": "361e6311",
   "metadata": {},
   "outputs": [
    {
     "data": {
      "text/html": [
       "<div>\n",
       "<style scoped>\n",
       "    .dataframe tbody tr th:only-of-type {\n",
       "        vertical-align: middle;\n",
       "    }\n",
       "\n",
       "    .dataframe tbody tr th {\n",
       "        vertical-align: top;\n",
       "    }\n",
       "\n",
       "    .dataframe thead th {\n",
       "        text-align: right;\n",
       "    }\n",
       "</style>\n",
       "<table border=\"1\" class=\"dataframe\">\n",
       "  <thead>\n",
       "    <tr style=\"text-align: right;\">\n",
       "      <th></th>\n",
       "      <th>latitude</th>\n",
       "      <th>longitude</th>\n",
       "      <th>housing_median_age</th>\n",
       "      <th>total_rooms</th>\n",
       "      <th>total_bedrooms</th>\n",
       "      <th>population</th>\n",
       "      <th>households</th>\n",
       "      <th>median_income</th>\n",
       "    </tr>\n",
       "  </thead>\n",
       "  <tbody>\n",
       "    <tr>\n",
       "      <th>0</th>\n",
       "      <td>37.88</td>\n",
       "      <td>-122.23</td>\n",
       "      <td>41.0</td>\n",
       "      <td>880.0</td>\n",
       "      <td>129.0</td>\n",
       "      <td>322.0</td>\n",
       "      <td>126.0</td>\n",
       "      <td>8.3252</td>\n",
       "    </tr>\n",
       "    <tr>\n",
       "      <th>1</th>\n",
       "      <td>37.86</td>\n",
       "      <td>-122.22</td>\n",
       "      <td>21.0</td>\n",
       "      <td>7099.0</td>\n",
       "      <td>1106.0</td>\n",
       "      <td>2401.0</td>\n",
       "      <td>1138.0</td>\n",
       "      <td>8.3014</td>\n",
       "    </tr>\n",
       "    <tr>\n",
       "      <th>2</th>\n",
       "      <td>37.85</td>\n",
       "      <td>-122.24</td>\n",
       "      <td>52.0</td>\n",
       "      <td>1467.0</td>\n",
       "      <td>190.0</td>\n",
       "      <td>496.0</td>\n",
       "      <td>177.0</td>\n",
       "      <td>7.2574</td>\n",
       "    </tr>\n",
       "    <tr>\n",
       "      <th>3</th>\n",
       "      <td>37.85</td>\n",
       "      <td>-122.25</td>\n",
       "      <td>52.0</td>\n",
       "      <td>1274.0</td>\n",
       "      <td>235.0</td>\n",
       "      <td>558.0</td>\n",
       "      <td>219.0</td>\n",
       "      <td>5.6431</td>\n",
       "    </tr>\n",
       "    <tr>\n",
       "      <th>4</th>\n",
       "      <td>37.85</td>\n",
       "      <td>-122.25</td>\n",
       "      <td>52.0</td>\n",
       "      <td>1627.0</td>\n",
       "      <td>280.0</td>\n",
       "      <td>565.0</td>\n",
       "      <td>259.0</td>\n",
       "      <td>3.8462</td>\n",
       "    </tr>\n",
       "  </tbody>\n",
       "</table>\n",
       "</div>"
      ],
      "text/plain": [
       "   latitude  longitude  housing_median_age  total_rooms  total_bedrooms  \\\n",
       "0     37.88    -122.23                41.0        880.0           129.0   \n",
       "1     37.86    -122.22                21.0       7099.0          1106.0   \n",
       "2     37.85    -122.24                52.0       1467.0           190.0   \n",
       "3     37.85    -122.25                52.0       1274.0           235.0   \n",
       "4     37.85    -122.25                52.0       1627.0           280.0   \n",
       "\n",
       "   population  households  median_income  \n",
       "0       322.0       126.0         8.3252  \n",
       "1      2401.0      1138.0         8.3014  \n",
       "2       496.0       177.0         7.2574  \n",
       "3       558.0       219.0         5.6431  \n",
       "4       565.0       259.0         3.8462  "
      ]
     },
     "execution_count": 604,
     "metadata": {},
     "output_type": "execute_result"
    }
   ],
   "source": [
    "X_train.head()"
   ]
  },
  {
   "cell_type": "markdown",
   "id": "12419d73",
   "metadata": {},
   "source": [
    "# Question 3"
   ]
  },
  {
   "cell_type": "code",
   "execution_count": 605,
   "id": "62e5e30e",
   "metadata": {},
   "outputs": [],
   "source": [
    "def train_linear_regression(X, y):\n",
    "    ones = np.ones(X.shape[0])\n",
    "    X = np.column_stack([ones, X])\n",
    "\n",
    "    XTX = X.T @ X\n",
    "    XTX_inv = np.linalg.inv(XTX)\n",
    "    w = XTX_inv @ (X.T) @ (y)\n",
    "    \n",
    "    return w[0], w[1:]"
   ]
  },
  {
   "cell_type": "code",
   "execution_count": 606,
   "id": "620abbc8",
   "metadata": {},
   "outputs": [],
   "source": [
    "def RMSE(y_true, y_pred):\n",
    "    return (np.sum((y_true - y_pred)**2) / y_true.shape[0]) ** 0.5"
   ]
  },
  {
   "cell_type": "markdown",
   "id": "4f54905d",
   "metadata": {},
   "source": [
    "### option 1: fill with 0"
   ]
  },
  {
   "cell_type": "code",
   "execution_count": 607,
   "id": "3d8dc85b",
   "metadata": {},
   "outputs": [],
   "source": [
    "X_train_zero = X_train.fillna(0)"
   ]
  },
  {
   "cell_type": "code",
   "execution_count": 608,
   "id": "4cff9c6b",
   "metadata": {},
   "outputs": [
    {
     "data": {
      "text/plain": [
       "latitude              0\n",
       "longitude             0\n",
       "housing_median_age    0\n",
       "total_rooms           0\n",
       "total_bedrooms        0\n",
       "population            0\n",
       "households            0\n",
       "median_income         0\n",
       "dtype: int64"
      ]
     },
     "execution_count": 608,
     "metadata": {},
     "output_type": "execute_result"
    }
   ],
   "source": [
    "X_train_zero.isnull().sum()"
   ]
  },
  {
   "cell_type": "code",
   "execution_count": 609,
   "id": "8aaa50c5",
   "metadata": {},
   "outputs": [],
   "source": [
    "X_val_zero = X_val.fillna(0)"
   ]
  },
  {
   "cell_type": "code",
   "execution_count": 610,
   "id": "a51e6fee",
   "metadata": {},
   "outputs": [],
   "source": [
    "X_test_zero = X_test.fillna(0)"
   ]
  },
  {
   "cell_type": "code",
   "execution_count": 611,
   "id": "0f81abc7",
   "metadata": {},
   "outputs": [],
   "source": [
    "X_val_zero = X_val.fillna(0)"
   ]
  },
  {
   "cell_type": "code",
   "execution_count": 612,
   "id": "c84794ec",
   "metadata": {},
   "outputs": [],
   "source": [
    "w0, w = train_linear_regression(X_train_zero, y_train)"
   ]
  },
  {
   "cell_type": "code",
   "execution_count": 613,
   "id": "dbb29cf0",
   "metadata": {},
   "outputs": [],
   "source": [
    "y_pred = w0 + X_val_zero @ w"
   ]
  },
  {
   "cell_type": "code",
   "execution_count": 614,
   "id": "e166a814",
   "metadata": {},
   "outputs": [
    {
     "data": {
      "text/plain": [
       "0.3625894325000279"
      ]
     },
     "execution_count": 614,
     "metadata": {},
     "output_type": "execute_result"
    }
   ],
   "source": [
    "RMSE(y_pred, y_val)"
   ]
  },
  {
   "cell_type": "markdown",
   "id": "fcc8bfa3",
   "metadata": {},
   "source": [
    "### option 2: fill with mean"
   ]
  },
  {
   "cell_type": "code",
   "execution_count": 615,
   "id": "d8e0e00f",
   "metadata": {},
   "outputs": [],
   "source": [
    "mean_bedrooms = X_train['total_bedrooms'].mean()"
   ]
  },
  {
   "cell_type": "code",
   "execution_count": 616,
   "id": "6959463b",
   "metadata": {},
   "outputs": [],
   "source": [
    "X_train_mean = X_train.fillna(mean_bedrooms)"
   ]
  },
  {
   "cell_type": "code",
   "execution_count": 617,
   "id": "10ff7b27",
   "metadata": {},
   "outputs": [],
   "source": [
    "X_val_mean = X_val.fillna(mean_bedrooms)"
   ]
  },
  {
   "cell_type": "code",
   "execution_count": 618,
   "id": "a3dfff02",
   "metadata": {},
   "outputs": [],
   "source": [
    "w0, w = train_linear_regression(X_train_mean, y_train)"
   ]
  },
  {
   "cell_type": "code",
   "execution_count": 619,
   "id": "471a52de",
   "metadata": {},
   "outputs": [],
   "source": [
    "y_pred = w0 + X_val_mean.dot(w)"
   ]
  },
  {
   "cell_type": "code",
   "execution_count": 620,
   "id": "d678647d",
   "metadata": {},
   "outputs": [
    {
     "data": {
      "text/plain": [
       "0.36182431113908964"
      ]
     },
     "execution_count": 620,
     "metadata": {},
     "output_type": "execute_result"
    }
   ],
   "source": [
    "RMSE(y_pred, y_val)"
   ]
  },
  {
   "cell_type": "markdown",
   "id": "9341af0d",
   "metadata": {},
   "source": [
    "### Question 3 answer"
   ]
  },
  {
   "cell_type": "markdown",
   "id": "a2eadb4a",
   "metadata": {},
   "source": [
    "we see a similar RMSE in the validation dataset."
   ]
  },
  {
   "cell_type": "markdown",
   "id": "3ce1ed02",
   "metadata": {},
   "source": [
    "# Question 4"
   ]
  },
  {
   "cell_type": "code",
   "execution_count": 621,
   "id": "9b373ebc",
   "metadata": {},
   "outputs": [],
   "source": [
    "def train_linear_regression_reg(X, y, r=0.0):\n",
    "    ones = np.ones(X.shape[0])\n",
    "    X = np.column_stack([ones, X])\n",
    "\n",
    "    XTX = X.T.dot(X)\n",
    "    reg = r * np.eye(XTX.shape[0])\n",
    "    XTX = XTX + reg\n",
    "\n",
    "    XTX_inv = np.linalg.inv(XTX)\n",
    "    w = XTX_inv.dot(X.T).dot(y)\n",
    "    \n",
    "    return w[0], w[1:]"
   ]
  },
  {
   "cell_type": "code",
   "execution_count": 622,
   "id": "cf5aeae6",
   "metadata": {},
   "outputs": [
    {
     "name": "stdout",
     "output_type": "stream",
     "text": [
      "0 0.3625894325000279\n",
      "1e-06 0.362589462105514\n",
      "0.0001 0.36259239351873324\n",
      "0.001 0.36261900374587513\n",
      "0.01 0.3628813059467349\n",
      "0.1 0.36517029035995696\n",
      "1 0.37438535017323465\n",
      "5 0.37972660330269625\n",
      "10 0.38072631325010153\n"
     ]
    }
   ],
   "source": [
    "for r in [0, 0.000001, 0.0001, 0.001, 0.01, 0.1, 1, 5, 10]:\n",
    "    w0, w = train_linear_regression_reg(X_train_zero, y_train, r)\n",
    "    y_pred = w0 + X_val_zero.dot(w)\n",
    "    print(r, RMSE(y_pred, y_val))"
   ]
  },
  {
   "cell_type": "markdown",
   "id": "b54564d2",
   "metadata": {},
   "source": [
    "### Answer"
   ]
  },
  {
   "cell_type": "markdown",
   "id": "8eb14da3",
   "metadata": {},
   "source": [
    "A lot of r values give similar RMSE on the validation dataset"
   ]
  },
  {
   "cell_type": "markdown",
   "id": "3f4103a5",
   "metadata": {},
   "source": [
    "# Question 5"
   ]
  },
  {
   "cell_type": "code",
   "execution_count": 630,
   "id": "af717496",
   "metadata": {},
   "outputs": [],
   "source": [
    "rmse = []\n",
    "for seed in [0, 1, 2, 3, 4, 5, 6, 7, 8, 9]:\n",
    "    np.random.seed(seed=seed)\n",
    "    X_train, X_val, X_test, y_train, y_val, y_test = split_data(data, train_ratio=0.6, test_ratio=0.2, val_ratio = 0.2)\n",
    "    X_val_zero = X_val.fillna(0)\n",
    "    X_test_zero = X_test.fillna(0)\n",
    "    X_train_zero = X_train.fillna(0)\n",
    "    w0, w = train_linear_regression(X_train_zero, y_train)\n",
    "    y_pred = w0 + X_val_zero.dot(w)\n",
    "    rmse.append(RMSE(y_pred, y_val))"
   ]
  },
  {
   "cell_type": "code",
   "execution_count": 631,
   "id": "98ec5697",
   "metadata": {},
   "outputs": [
    {
     "data": {
      "text/plain": [
       "0.0"
      ]
     },
     "execution_count": 631,
     "metadata": {},
     "output_type": "execute_result"
    }
   ],
   "source": [
    "round(np.std(rmse), 3)"
   ]
  },
  {
   "cell_type": "markdown",
   "id": "80871e6b",
   "metadata": {},
   "source": [
    "# Question 6"
   ]
  },
  {
   "cell_type": "code",
   "execution_count": 632,
   "id": "dd67f2a3",
   "metadata": {},
   "outputs": [],
   "source": [
    "np.random.seed(seed=9)\n",
    "X_train, X_val, X_test, y_train, y_val, y_test = split_data(data, train_ratio=0.8, test_ratio=0.2, val_ratio = 0)"
   ]
  },
  {
   "cell_type": "code",
   "execution_count": 633,
   "id": "465d6c7f",
   "metadata": {},
   "outputs": [
    {
     "data": {
      "text/plain": [
       "(16512, 8)"
      ]
     },
     "execution_count": 633,
     "metadata": {},
     "output_type": "execute_result"
    }
   ],
   "source": [
    "X_train.shape"
   ]
  },
  {
   "cell_type": "code",
   "execution_count": 634,
   "id": "a98814e6",
   "metadata": {},
   "outputs": [
    {
     "data": {
      "text/plain": [
       "(0, 8)"
      ]
     },
     "execution_count": 634,
     "metadata": {},
     "output_type": "execute_result"
    }
   ],
   "source": [
    "X_val.shape"
   ]
  },
  {
   "cell_type": "code",
   "execution_count": 635,
   "id": "5471a62e",
   "metadata": {},
   "outputs": [
    {
     "data": {
      "text/plain": [
       "(4128, 8)"
      ]
     },
     "execution_count": 635,
     "metadata": {},
     "output_type": "execute_result"
    }
   ],
   "source": [
    "X_test.shape"
   ]
  },
  {
   "cell_type": "code",
   "execution_count": 636,
   "id": "52da772b",
   "metadata": {},
   "outputs": [
    {
     "data": {
      "text/plain": [
       "0.3202775681840559"
      ]
     },
     "execution_count": 636,
     "metadata": {},
     "output_type": "execute_result"
    }
   ],
   "source": [
    "X_test_zero = X_test.fillna(0)\n",
    "X_train_zero = X_train.fillna(0)\n",
    "w0, w = train_linear_regression_reg(X_train_zero, y_train, r=0.001)\n",
    "y_pred = w0 + X_test_zero @ w\n",
    "RMSE(y_pred, y_test)"
   ]
  },
  {
   "cell_type": "code",
   "execution_count": null,
   "id": "e4357019",
   "metadata": {},
   "outputs": [],
   "source": []
  }
 ],
 "metadata": {
  "kernelspec": {
   "display_name": "Python 3 (ipykernel)",
   "language": "python",
   "name": "python3"
  },
  "language_info": {
   "codemirror_mode": {
    "name": "ipython",
    "version": 3
   },
   "file_extension": ".py",
   "mimetype": "text/x-python",
   "name": "python",
   "nbconvert_exporter": "python",
   "pygments_lexer": "ipython3",
   "version": "3.7.5"
  }
 },
 "nbformat": 4,
 "nbformat_minor": 5
}
