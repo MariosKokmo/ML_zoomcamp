{
 "cells": [
  {
   "cell_type": "code",
   "execution_count": 1,
   "id": "32a66c22",
   "metadata": {},
   "outputs": [],
   "source": [
    "import pandas as pd\n",
    "import numpy as np"
   ]
  },
  {
   "cell_type": "code",
   "execution_count": 2,
   "id": "b0507a48",
   "metadata": {},
   "outputs": [],
   "source": [
    "data = pd.read_csv('housing.csv')"
   ]
  },
  {
   "cell_type": "code",
   "execution_count": 3,
   "id": "78278f97",
   "metadata": {},
   "outputs": [
    {
     "data": {
      "text/html": [
       "<div>\n",
       "<style scoped>\n",
       "    .dataframe tbody tr th:only-of-type {\n",
       "        vertical-align: middle;\n",
       "    }\n",
       "\n",
       "    .dataframe tbody tr th {\n",
       "        vertical-align: top;\n",
       "    }\n",
       "\n",
       "    .dataframe thead th {\n",
       "        text-align: right;\n",
       "    }\n",
       "</style>\n",
       "<table border=\"1\" class=\"dataframe\">\n",
       "  <thead>\n",
       "    <tr style=\"text-align: right;\">\n",
       "      <th></th>\n",
       "      <th>longitude</th>\n",
       "      <th>latitude</th>\n",
       "      <th>housing_median_age</th>\n",
       "      <th>total_rooms</th>\n",
       "      <th>total_bedrooms</th>\n",
       "      <th>population</th>\n",
       "      <th>households</th>\n",
       "      <th>median_income</th>\n",
       "      <th>median_house_value</th>\n",
       "      <th>ocean_proximity</th>\n",
       "    </tr>\n",
       "  </thead>\n",
       "  <tbody>\n",
       "    <tr>\n",
       "      <th>0</th>\n",
       "      <td>-122.23</td>\n",
       "      <td>37.88</td>\n",
       "      <td>41.0</td>\n",
       "      <td>880.0</td>\n",
       "      <td>129.0</td>\n",
       "      <td>322.0</td>\n",
       "      <td>126.0</td>\n",
       "      <td>8.3252</td>\n",
       "      <td>452600.0</td>\n",
       "      <td>NEAR BAY</td>\n",
       "    </tr>\n",
       "    <tr>\n",
       "      <th>1</th>\n",
       "      <td>-122.22</td>\n",
       "      <td>37.86</td>\n",
       "      <td>21.0</td>\n",
       "      <td>7099.0</td>\n",
       "      <td>1106.0</td>\n",
       "      <td>2401.0</td>\n",
       "      <td>1138.0</td>\n",
       "      <td>8.3014</td>\n",
       "      <td>358500.0</td>\n",
       "      <td>NEAR BAY</td>\n",
       "    </tr>\n",
       "    <tr>\n",
       "      <th>2</th>\n",
       "      <td>-122.24</td>\n",
       "      <td>37.85</td>\n",
       "      <td>52.0</td>\n",
       "      <td>1467.0</td>\n",
       "      <td>190.0</td>\n",
       "      <td>496.0</td>\n",
       "      <td>177.0</td>\n",
       "      <td>7.2574</td>\n",
       "      <td>352100.0</td>\n",
       "      <td>NEAR BAY</td>\n",
       "    </tr>\n",
       "    <tr>\n",
       "      <th>3</th>\n",
       "      <td>-122.25</td>\n",
       "      <td>37.85</td>\n",
       "      <td>52.0</td>\n",
       "      <td>1274.0</td>\n",
       "      <td>235.0</td>\n",
       "      <td>558.0</td>\n",
       "      <td>219.0</td>\n",
       "      <td>5.6431</td>\n",
       "      <td>341300.0</td>\n",
       "      <td>NEAR BAY</td>\n",
       "    </tr>\n",
       "    <tr>\n",
       "      <th>4</th>\n",
       "      <td>-122.25</td>\n",
       "      <td>37.85</td>\n",
       "      <td>52.0</td>\n",
       "      <td>1627.0</td>\n",
       "      <td>280.0</td>\n",
       "      <td>565.0</td>\n",
       "      <td>259.0</td>\n",
       "      <td>3.8462</td>\n",
       "      <td>342200.0</td>\n",
       "      <td>NEAR BAY</td>\n",
       "    </tr>\n",
       "  </tbody>\n",
       "</table>\n",
       "</div>"
      ],
      "text/plain": [
       "   longitude  latitude  housing_median_age  total_rooms  total_bedrooms  \\\n",
       "0    -122.23     37.88                41.0        880.0           129.0   \n",
       "1    -122.22     37.86                21.0       7099.0          1106.0   \n",
       "2    -122.24     37.85                52.0       1467.0           190.0   \n",
       "3    -122.25     37.85                52.0       1274.0           235.0   \n",
       "4    -122.25     37.85                52.0       1627.0           280.0   \n",
       "\n",
       "   population  households  median_income  median_house_value ocean_proximity  \n",
       "0       322.0       126.0         8.3252            452600.0        NEAR BAY  \n",
       "1      2401.0      1138.0         8.3014            358500.0        NEAR BAY  \n",
       "2       496.0       177.0         7.2574            352100.0        NEAR BAY  \n",
       "3       558.0       219.0         5.6431            341300.0        NEAR BAY  \n",
       "4       565.0       259.0         3.8462            342200.0        NEAR BAY  "
      ]
     },
     "execution_count": 3,
     "metadata": {},
     "output_type": "execute_result"
    }
   ],
   "source": [
    "data.head()"
   ]
  },
  {
   "cell_type": "code",
   "execution_count": 4,
   "id": "b5535a51",
   "metadata": {},
   "outputs": [],
   "source": [
    "data = data.fillna(0)"
   ]
  },
  {
   "cell_type": "code",
   "execution_count": 5,
   "id": "94fe6b10",
   "metadata": {},
   "outputs": [],
   "source": [
    "data['rooms_per_household'] = data['total_rooms'] / data['households']"
   ]
  },
  {
   "cell_type": "code",
   "execution_count": 6,
   "id": "e06fe2ef",
   "metadata": {},
   "outputs": [],
   "source": [
    "data['bedrooms_per_room'] = data['total_bedrooms'] / data['total_rooms']"
   ]
  },
  {
   "cell_type": "code",
   "execution_count": 7,
   "id": "a5a4c36d",
   "metadata": {},
   "outputs": [],
   "source": [
    "data['population_per_household'] = data['population'] / data['households']"
   ]
  },
  {
   "cell_type": "markdown",
   "id": "ab97d1af",
   "metadata": {},
   "source": [
    "# Question 1"
   ]
  },
  {
   "cell_type": "code",
   "execution_count": 8,
   "id": "c0dabf54",
   "metadata": {},
   "outputs": [
    {
     "data": {
      "text/plain": [
       "0    <1H OCEAN\n",
       "dtype: object"
      ]
     },
     "execution_count": 8,
     "metadata": {},
     "output_type": "execute_result"
    }
   ],
   "source": [
    "data['ocean_proximity'].mode()"
   ]
  },
  {
   "cell_type": "code",
   "execution_count": 9,
   "id": "c362b15c",
   "metadata": {},
   "outputs": [
    {
     "data": {
      "text/plain": [
       "<1H OCEAN     9136\n",
       "INLAND        6551\n",
       "NEAR OCEAN    2658\n",
       "NEAR BAY      2290\n",
       "ISLAND           5\n",
       "Name: ocean_proximity, dtype: int64"
      ]
     },
     "execution_count": 9,
     "metadata": {},
     "output_type": "execute_result"
    }
   ],
   "source": [
    "data['ocean_proximity'].value_counts()"
   ]
  },
  {
   "cell_type": "markdown",
   "id": "dc4a4d8c",
   "metadata": {},
   "source": [
    "Answer: the mode is <1H OCEAN"
   ]
  },
  {
   "cell_type": "markdown",
   "id": "c83a5772",
   "metadata": {},
   "source": [
    "# Question 2"
   ]
  },
  {
   "cell_type": "code",
   "execution_count": 10,
   "id": "41f170c4",
   "metadata": {},
   "outputs": [],
   "source": [
    "cor = data.corr()"
   ]
  },
  {
   "cell_type": "code",
   "execution_count": 11,
   "id": "4ba57545",
   "metadata": {},
   "outputs": [
    {
     "data": {
      "text/plain": [
       "0.966507240042043"
      ]
     },
     "execution_count": 11,
     "metadata": {},
     "output_type": "execute_result"
    }
   ],
   "source": [
    "cor['total_bedrooms']['households']"
   ]
  },
  {
   "cell_type": "code",
   "execution_count": 12,
   "id": "cddd8a03",
   "metadata": {},
   "outputs": [
    {
     "data": {
      "text/plain": [
       "0.9201961721166215"
      ]
     },
     "execution_count": 12,
     "metadata": {},
     "output_type": "execute_result"
    }
   ],
   "source": [
    "cor['total_bedrooms']['total_rooms']"
   ]
  },
  {
   "cell_type": "code",
   "execution_count": 13,
   "id": "5279e945",
   "metadata": {},
   "outputs": [
    {
     "data": {
      "text/plain": [
       "0.9072222660959659"
      ]
     },
     "execution_count": 13,
     "metadata": {},
     "output_type": "execute_result"
    }
   ],
   "source": [
    "cor['population']['households']"
   ]
  },
  {
   "cell_type": "code",
   "execution_count": 14,
   "id": "66b6c857",
   "metadata": {},
   "outputs": [
    {
     "data": {
      "text/plain": [
       "-0.02458065899398796"
      ]
     },
     "execution_count": 14,
     "metadata": {},
     "output_type": "execute_result"
    }
   ],
   "source": [
    "cor['population_per_household']['total_rooms']"
   ]
  },
  {
   "cell_type": "markdown",
   "id": "cfb48652",
   "metadata": {},
   "source": [
    "Answer: the biggest correlation is between total_bedrooms and households"
   ]
  },
  {
   "cell_type": "code",
   "execution_count": 15,
   "id": "c00a6447",
   "metadata": {},
   "outputs": [],
   "source": [
    "data['above_average'] = data['median_house_value'] > data['median_house_value'].mean()"
   ]
  },
  {
   "cell_type": "code",
   "execution_count": 16,
   "id": "03ad13cc",
   "metadata": {},
   "outputs": [],
   "source": [
    "data['above_average'] = data['above_average'].astype(int) "
   ]
  },
  {
   "cell_type": "code",
   "execution_count": 17,
   "id": "88bf6ec3",
   "metadata": {},
   "outputs": [
    {
     "data": {
      "text/plain": [
       "0    12255\n",
       "1     8385\n",
       "Name: above_average, dtype: int64"
      ]
     },
     "execution_count": 17,
     "metadata": {},
     "output_type": "execute_result"
    }
   ],
   "source": [
    "data['above_average'].value_counts()"
   ]
  },
  {
   "cell_type": "code",
   "execution_count": 18,
   "id": "65c20513",
   "metadata": {},
   "outputs": [],
   "source": [
    "from sklearn.model_selection import train_test_split\n",
    "\n",
    "features = [col for col in data.columns if col!='median_house_value' and col!='above_average' ]\n",
    "X = data[features]\n",
    "y = data['above_average']\n",
    "X_temp, X_test, y_temp, y_test = train_test_split(X,y, test_size=0.2, random_state=42)"
   ]
  },
  {
   "cell_type": "code",
   "execution_count": 19,
   "id": "355fbdcc",
   "metadata": {},
   "outputs": [],
   "source": [
    "X_train, X_val, y_train, y_val = train_test_split(X_temp, y_temp, test_size=0.25, random_state=42)"
   ]
  },
  {
   "cell_type": "code",
   "execution_count": 20,
   "id": "d68b028c",
   "metadata": {},
   "outputs": [
    {
     "name": "stdout",
     "output_type": "stream",
     "text": [
      "(12384, 12) (12384,)\n",
      "(4128, 12) (4128,)\n",
      "(4128, 12) (4128,)\n"
     ]
    }
   ],
   "source": [
    "print(X_train.shape, y_train.shape)\n",
    "print(X_val.shape, y_val.shape)\n",
    "print(X_test.shape, y_test.shape)"
   ]
  },
  {
   "cell_type": "markdown",
   "id": "ee1dc8d2",
   "metadata": {},
   "source": [
    "# Question 3"
   ]
  },
  {
   "cell_type": "code",
   "execution_count": 21,
   "id": "9a78853d",
   "metadata": {},
   "outputs": [
    {
     "data": {
      "text/plain": [
       "0.1"
      ]
     },
     "execution_count": 21,
     "metadata": {},
     "output_type": "execute_result"
    }
   ],
   "source": [
    "from sklearn.metrics import mutual_info_score\n",
    "\n",
    "round(mutual_info_score(y_train, X_train['ocean_proximity']), 2)"
   ]
  },
  {
   "cell_type": "markdown",
   "id": "da9ad7d7",
   "metadata": {},
   "source": [
    "Answer: 0.1"
   ]
  },
  {
   "cell_type": "markdown",
   "id": "7b153365",
   "metadata": {},
   "source": [
    "# Question 4"
   ]
  },
  {
   "cell_type": "code",
   "execution_count": 22,
   "id": "9b64c6b7",
   "metadata": {},
   "outputs": [
    {
     "data": {
      "text/plain": [
       "(12384, 16)"
      ]
     },
     "execution_count": 22,
     "metadata": {},
     "output_type": "execute_result"
    }
   ],
   "source": [
    "from sklearn.feature_extraction import DictVectorizer\n",
    "\n",
    "train_dict = X_train.to_dict(orient='records')\n",
    "dv = DictVectorizer(sparse=False)\n",
    "dv.fit(train_dict)\n",
    "X_train = dv.transform(train_dict)\n",
    "X_train.shape"
   ]
  },
  {
   "cell_type": "code",
   "execution_count": 23,
   "id": "5ac2bfc0",
   "metadata": {},
   "outputs": [
    {
     "data": {
      "text/plain": [
       "['bedrooms_per_room',\n",
       " 'households',\n",
       " 'housing_median_age',\n",
       " 'latitude',\n",
       " 'longitude',\n",
       " 'median_income',\n",
       " 'ocean_proximity=<1H OCEAN',\n",
       " 'ocean_proximity=INLAND',\n",
       " 'ocean_proximity=ISLAND',\n",
       " 'ocean_proximity=NEAR BAY',\n",
       " 'ocean_proximity=NEAR OCEAN',\n",
       " 'population',\n",
       " 'population_per_household',\n",
       " 'rooms_per_household',\n",
       " 'total_bedrooms',\n",
       " 'total_rooms']"
      ]
     },
     "execution_count": 23,
     "metadata": {},
     "output_type": "execute_result"
    }
   ],
   "source": [
    "list(dv.get_feature_names_out())"
   ]
  },
  {
   "cell_type": "markdown",
   "id": "ebbc80fb",
   "metadata": {},
   "source": [
    "### Fitting the model"
   ]
  },
  {
   "cell_type": "code",
   "execution_count": 24,
   "id": "24df21af",
   "metadata": {},
   "outputs": [],
   "source": [
    "from sklearn.linear_model import LogisticRegression\n",
    "\n",
    "model = LogisticRegression(solver=\"liblinear\", max_iter=1000,  C=1.0, random_state=42)"
   ]
  },
  {
   "cell_type": "code",
   "execution_count": 25,
   "id": "259c6edd",
   "metadata": {},
   "outputs": [
    {
     "data": {
      "text/plain": [
       "LogisticRegression(max_iter=1000, random_state=42, solver='liblinear')"
      ]
     },
     "execution_count": 25,
     "metadata": {},
     "output_type": "execute_result"
    }
   ],
   "source": [
    "model.fit(X_train, y_train)"
   ]
  },
  {
   "cell_type": "code",
   "execution_count": 26,
   "id": "1027cbc5",
   "metadata": {},
   "outputs": [],
   "source": [
    "val_dict = X_val.to_dict(orient='records')\n",
    "X_val = dv.transform(val_dict)"
   ]
  },
  {
   "cell_type": "code",
   "execution_count": 27,
   "id": "6e884594",
   "metadata": {},
   "outputs": [
    {
     "data": {
      "text/plain": [
       "0.84"
      ]
     },
     "execution_count": 27,
     "metadata": {},
     "output_type": "execute_result"
    }
   ],
   "source": [
    "round(model.score(X_val, y_val), 2)"
   ]
  },
  {
   "cell_type": "markdown",
   "id": "b22332ba",
   "metadata": {},
   "source": [
    "Answer: 0.84"
   ]
  },
  {
   "cell_type": "markdown",
   "id": "10cb41cf",
   "metadata": {},
   "source": [
    "# Question 5"
   ]
  },
  {
   "cell_type": "code",
   "execution_count": 28,
   "id": "5fce0413",
   "metadata": {},
   "outputs": [
    {
     "name": "stdout",
     "output_type": "stream",
     "text": [
      "Missing feature: total_rooms --- score: 0.84\n",
      "Missing feature: total_bedrooms --- score: 0.84\n",
      "Missing feature: population --- score: 0.83\n",
      "Missing feature: households --- score: 0.83\n"
     ]
    }
   ],
   "source": [
    "model2 = LogisticRegression(solver=\"liblinear\", max_iter=1000,  C=1.0, random_state=42)\n",
    "\n",
    "all_features = list(dv.get_feature_names_out())\n",
    "\n",
    "features_to_exclude = ['total_rooms','total_bedrooms','population','households']\n",
    "\n",
    "for feature in features_to_exclude:\n",
    "    \n",
    "    X_temp, X_test, y_temp, y_test = train_test_split(X,y, test_size=0.2, random_state=42)\n",
    "    X_train, X_val, y_train, y_val = train_test_split(X_temp, y_temp, test_size=0.25, random_state=42)\n",
    "    \n",
    "    X_train_2 = X_train.drop([feature], axis=1)\n",
    "    X_val_2 = X_val.drop([feature], axis=1)\n",
    "    \n",
    "    train_dict = X_train_2.to_dict(orient='records')\n",
    "    dv = DictVectorizer(sparse=False)\n",
    "    dv.fit(train_dict)\n",
    "    X_train_2 = dv.transform(train_dict) \n",
    "    \n",
    "    val_dict = X_val_2.to_dict(orient='records')\n",
    "    X_val_2 = dv.transform(val_dict)\n",
    "    \n",
    "    \n",
    "    model.fit(X_train_2, y_train)\n",
    "    acc = round(model.score(X_val_2, y_val), 2)\n",
    "    \n",
    "    print(f\"Missing feature: {feature} --- score: {acc}\")"
   ]
  },
  {
   "cell_type": "markdown",
   "id": "a8938f49",
   "metadata": {},
   "source": [
    "# Question 6"
   ]
  },
  {
   "cell_type": "code",
   "execution_count": 29,
   "id": "6496dafb",
   "metadata": {},
   "outputs": [
    {
     "name": "stdout",
     "output_type": "stream",
     "text": [
      "Alpha: 0 --- RMSE score: 0.524\n",
      "Alpha: 0.01 --- RMSE score: 0.524\n",
      "Alpha: 0.1 --- RMSE score: 0.524\n",
      "Alpha: 1 --- RMSE score: 0.524\n",
      "Alpha: 10 --- RMSE score: 0.524\n"
     ]
    }
   ],
   "source": [
    "from sklearn.linear_model import Ridge\n",
    "from sklearn.metrics import mean_squared_error\n",
    "\n",
    "features = [col for col in data.columns if col!='median_house_value']\n",
    "X = data[features]\n",
    "y = np.log1p(data['median_house_value'])\n",
    "\n",
    "X_temp, X_test, y_temp, y_test = train_test_split(X,y, test_size=0.2, random_state=42)\n",
    "X_train, X_val, y_train, y_val = train_test_split(X_temp, y_temp, test_size=0.25, random_state=42)\n",
    "\n",
    "train_dict = X_train.to_dict(orient='records')\n",
    "dv = DictVectorizer(sparse=False)\n",
    "dv.fit(train_dict)\n",
    "X_train = dv.transform(train_dict)\n",
    "\n",
    "val_dict = X_val.to_dict(orient='records')\n",
    "X_val = dv.transform(val_dict)\n",
    "\n",
    "for a in [0, 0.01, 0.1, 1, 10]:\n",
    "    model = Ridge(alpha=a, solver=\"sag\", random_state=42)\n",
    "    model.fit(X_train, y_train)\n",
    "    y_pred = model.predict(X_val)\n",
    "    rmse = round(mean_squared_error(y_val, y_pred)**0.5, 3)\n",
    "    \n",
    "    print(f\"Alpha: {a} --- RMSE score: {rmse}\")\n"
   ]
  },
  {
   "cell_type": "code",
   "execution_count": null,
   "id": "a522de64",
   "metadata": {},
   "outputs": [],
   "source": []
  }
 ],
 "metadata": {
  "kernelspec": {
   "display_name": "Python 3 (ipykernel)",
   "language": "python",
   "name": "python3"
  },
  "language_info": {
   "codemirror_mode": {
    "name": "ipython",
    "version": 3
   },
   "file_extension": ".py",
   "mimetype": "text/x-python",
   "name": "python",
   "nbconvert_exporter": "python",
   "pygments_lexer": "ipython3",
   "version": "3.7.5"
  }
 },
 "nbformat": 4,
 "nbformat_minor": 5
}
